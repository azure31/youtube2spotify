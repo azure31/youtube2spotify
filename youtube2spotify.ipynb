{
 "cells": [
  {
   "cell_type": "code",
   "execution_count": null,
   "metadata": {},
   "outputs": [],
   "source": [
    "import os\n",
    "import pandas as pd\n",
    "import google_auth_oauthlib.flow\n",
    "import googleapiclient.discovery\n",
    "import youtube_dl\n",
    "import spotipy\n",
    "import spotipy.util as util\n",
    "from spotipy.oauth2 import SpotifyClientCredentials\n",
    "from credentials import client_id, client_secret, user_id, username"
   ]
  },
  {
   "cell_type": "code",
   "execution_count": null,
   "metadata": {},
   "outputs": [],
   "source": [
    "# Spotify creds\n",
    "os.environ['SPOTIPY_CLIENT_ID'] = client_id\n",
    "os.environ['SPOTIPY_CLIENT_SECRET'] = client_secret\n",
    "\n",
    "redirect_uri = \"http://localhost:7777/callback\"  #Spotify will open a grant data permission page here\n",
    "os.environ['SPOTIPY_REDIRECT_URI'] = redirect_uri\n",
    "\n",
    "# Youtube \n",
    "os.environ[\"OAUTHLIB_INSECURE_TRANSPORT\"] = \"1\"  # Set this to 1 only when running locally\n",
    "api_service_name = \"youtube\"\n",
    "api_version = \"v3\"\n",
    "CLIENT_SECRETS = \"client_secret.json\"  #youtube credentials file"
   ]
  },
  {
   "cell_type": "code",
   "execution_count": null,
   "metadata": {},
   "outputs": [],
   "source": [
    "# Initialize youtube data api client\n",
    "def init_youtube_client(client_secrets_file):\n",
    "\n",
    "    # Get credentials and create an API client\n",
    "    scopes = [\"https://www.googleapis.com/auth/youtube.readonly\"]\n",
    "    flow = google_auth_oauthlib.flow.InstalledAppFlow.from_client_secrets_file(client_secrets_file, scopes)\n",
    "    credentials = flow.run_console()  # This will ask to authenticate and paste access token\n",
    "\n",
    "    # from the Youtube DATA API\n",
    "    youtube_client = googleapiclient.discovery.build(api_service_name, \n",
    "                                                     api_version, \n",
    "                                                     credentials=credentials)\n",
    "    \n",
    "    return youtube_client\n",
    "\n",
    "\n",
    "# Initialize spotify client credentials to get non-user data\n",
    "def init_spotify_client():\n",
    "    spotify_client = spotipy.Spotify(client_credentials_manager=SpotifyClientCredentials())    \n",
    "    return spotify_client\n",
    "\n",
    "\n",
    "# Get liked videos from youtube and their corresponding spotify track uri\n",
    "def get_liked_vids_uris():  \n",
    "    \n",
    "    youtube_client = init_youtube_client(CLIENT_SECRETS)\n",
    "    spotify_client = init_spotify_client()\n",
    "    \n",
    "    likes = youtube_client.videos()\n",
    "    request = likes.list(part=\"snippet,contentDetails\", myRating=\"like\")\n",
    "    music_df = pd.DataFrame(columns = ['video_title', 'song_name', 'artist', 'uri'])\n",
    "    \n",
    "    while request is not None:\n",
    "        liked_vids = request.execute()\n",
    "        for item in liked_vids[\"items\"]:\n",
    "            video_title = item[\"snippet\"][\"title\"]\n",
    "            youtube_url = f'https://www.youtube.com/watch?v={item[\"id\"]}'\n",
    "\n",
    "            # use youtube_dl to collect the song name & artist name\n",
    "            try:\n",
    "                video = youtube_dl.YoutubeDL({}).extract_info(youtube_url, download=False)\n",
    "            except Exception as e:\n",
    "                print(f\"Error getting song info, skipping {video_title}\")\n",
    "                continue\n",
    "            else:\n",
    "                song_name = video[\"track\"]\n",
    "                artist = video[\"artist\"]\n",
    "                if((song_name is not None) & (artist is not None)):\n",
    "                    print(\" -- \".join([video_title, song_name, artist]))\n",
    "\n",
    "                    # Get spotify URI of track\n",
    "                    result = spotify_client.search(q=f'track:{song_name} artist:{artist}', type='track')   \n",
    "                    \n",
    "                    # Pick the top match in case there are multiple matches\n",
    "                    for song in result['tracks']['items']:\n",
    "                        \n",
    "                        uri = song['uri'].split(\":\")[-1]\n",
    "                        row = {'video_title':video_title, \n",
    "                                'song_name':song['name'], \n",
    "                                'artist':song['artists'][0]['name'],\n",
    "                                'uri':uri}\n",
    "                        print(row)\n",
    "                        \n",
    "                        music_df = music_df.append(row, ignore_index=True)\n",
    "                        break\n",
    "                        \n",
    "        request = likes.list_next(request, liked_vids)\n",
    "    return music_df\n",
    "\n",
    "\n",
    "# Create a new spotify playlist to store the songs\n",
    "def create_playlist(playlist_name):\n",
    "    \n",
    "    ''' Create a new spotify playlist to store the songs '''\n",
    "    \n",
    "    token = util.prompt_for_user_token(username=username, \n",
    "                                       scope=\"playlist-modify-public\")\n",
    "\n",
    "    if token:\n",
    "        sp = spotipy.Spotify(auth=token)\n",
    "        sp.user_playlist_create(user_id, playlist_name)  # Create new playlist\n",
    "        print(\"Playlist created.\")\n",
    "    else:\n",
    "        print(\"Can't get token for\", username)\n",
    "        return None\n",
    "\n",
    "    \n",
    "def get_playlist_uri(playlist_name=None):\n",
    "    \n",
    "    ''' Display all the playlists for the user and get the uri of given playlist '''\n",
    "    \n",
    "    token = util.prompt_for_user_token(username=username, \n",
    "                                       scope='user-library-read')\n",
    "\n",
    "    # Show all playlist and get the uri\n",
    "    sp = spotipy.Spotify(auth=token)\n",
    "    playlists = sp.user_playlists(user_id)\n",
    "    uri = None\n",
    "    for item in playlists['items']:\n",
    "        print(item['name'], \"--\", item['uri'])\n",
    "        if(item['name'] == playlist_name):\n",
    "            uri = item['uri'].split(\":\")[-1]\n",
    "    \n",
    "    if uri is not None:\n",
    "        return uri\n",
    "    else:\n",
    "        return None\n",
    "    \n",
    "    \n",
    "def add_tracks(playlist_uri, tracks):\n",
    "    \n",
    "    ''' Add tracks to playlist '''\n",
    "    \n",
    "    token = util.prompt_for_user_token(username, scope='playlist-modify-public')\n",
    "    if token:\n",
    "        sp = spotipy.Spotify(auth=token)\n",
    "        sp.trace = False\n",
    "        results = sp.user_playlist_add_tracks(username, playlist_uri, tracks)\n",
    "        print(results)   \n",
    "    else:\n",
    "        print(\"Cant get token for\", username)\n"
   ]
  },
  {
   "cell_type": "markdown",
   "metadata": {},
   "source": [
    "**Get liked videos from youtube**"
   ]
  },
  {
   "cell_type": "code",
   "execution_count": null,
   "metadata": {},
   "outputs": [],
   "source": [
    "music_df = get_liked_vids_uris()"
   ]
  },
  {
   "cell_type": "code",
   "execution_count": null,
   "metadata": {},
   "outputs": [],
   "source": [
    "music_df.tail()"
   ]
  },
  {
   "cell_type": "markdown",
   "metadata": {},
   "source": [
    "** Add tracks to a new playlist **"
   ]
  },
  {
   "cell_type": "code",
   "execution_count": null,
   "metadata": {},
   "outputs": [],
   "source": [
    "# Create a new playlist to add the tracks\n",
    "playlist_name = 'Youtube Likes'\n",
    "playlist_uri = create_playlist(playlist_name)"
   ]
  },
  {
   "cell_type": "code",
   "execution_count": null,
   "metadata": {},
   "outputs": [],
   "source": [
    "playlist_uri = get_playlist_uri(playlist_name)"
   ]
  },
  {
   "cell_type": "code",
   "execution_count": null,
   "metadata": {},
   "outputs": [],
   "source": [
    "# Add tracks to playlist\n",
    "add_tracks(playlist_uri, list(music_df.tracks))"
   ]
  }
 ],
 "metadata": {
  "kernelspec": {
   "display_name": "Python 3",
   "language": "python",
   "name": "python3"
  },
  "language_info": {
   "codemirror_mode": {
    "name": "ipython",
    "version": 3
   },
   "file_extension": ".py",
   "mimetype": "text/x-python",
   "name": "python",
   "nbconvert_exporter": "python",
   "pygments_lexer": "ipython3",
   "version": "3.6.5"
  }
 },
 "nbformat": 4,
 "nbformat_minor": 2
}
